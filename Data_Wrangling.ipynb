{
  "nbformat": 4,
  "nbformat_minor": 0,
  "metadata": {
    "colab": {
      "provenance": []
    },
    "kernelspec": {
      "name": "python3",
      "display_name": "Python 3"
    },
    "language_info": {
      "name": "python"
    }
  },
  "cells": [
    {
      "cell_type": "code",
      "execution_count": null,
      "metadata": {
        "id": "ZyRJLyYSz5_4"
      },
      "outputs": [],
      "source": [
        "import pandas as pd\n",
        "\n",
        "# Load CSV file into a DataFrame\n",
        "df = pd.read_csv('your_dataset.csv')\n",
        "print(df.head())"
      ]
    },
    {
      "cell_type": "code",
      "source": [
        "df.shape           # Rows and columns\n",
        "df.info()          # Data types and non-null values\n",
        "df.describe()      # Summary statistics\n",
        "df.columns         # List of column names\n",
        "df.dtypes          # Data types"
      ],
      "metadata": {
        "id": "LcoVXg720HBX"
      },
      "execution_count": null,
      "outputs": []
    },
    {
      "cell_type": "code",
      "source": [
        "df.isnull().sum()"
      ],
      "metadata": {
        "id": "2_Xw0Gh_0HDu"
      },
      "execution_count": null,
      "outputs": []
    },
    {
      "cell_type": "code",
      "source": [
        "df.dropna(inplace=True)        # Drop all rows with any missing values\n",
        "df.drop(columns=['col_name'])  # Drop a column"
      ],
      "metadata": {
        "id": "x36jsQE40HGG"
      },
      "execution_count": null,
      "outputs": []
    },
    {
      "cell_type": "code",
      "source": [
        "df['Age'].fillna(df['Age'].mean(), inplace=True)      # Fill with mean\n",
        "df['City'].fillna('Unknown', inplace=True)            # Fill with string"
      ],
      "metadata": {
        "id": "H1zLnGk70HIm"
      },
      "execution_count": null,
      "outputs": []
    },
    {
      "cell_type": "code",
      "source": [
        "df.rename(columns={'old_name': 'new_name'}, inplace=True)"
      ],
      "metadata": {
        "id": "zpfDvWsk0HLb"
      },
      "execution_count": null,
      "outputs": []
    },
    {
      "cell_type": "code",
      "source": [
        "df['Date'] = pd.to_datetime(df['Date'])         # Convert to datetime\n",
        "df['Salary'] = df['Salary'].astype(float)       # Convert to float"
      ],
      "metadata": {
        "id": "0rmMkHBL0HPF"
      },
      "execution_count": null,
      "outputs": []
    },
    {
      "cell_type": "code",
      "source": [
        "df.drop_duplicates(inplace=True)"
      ],
      "metadata": {
        "id": "v_R3mUPI0jYB"
      },
      "execution_count": null,
      "outputs": []
    },
    {
      "cell_type": "code",
      "source": [
        "df[df['Age'] > 25]                        # Filter rows\n",
        "df[(df['Age'] > 25) & (df['Gender'] == 'Male')]"
      ],
      "metadata": {
        "id": "8RpFlrbN0jae"
      },
      "execution_count": null,
      "outputs": []
    },
    {
      "cell_type": "code",
      "source": [
        "df['Total'] = df['Price'] * df['Quantity']"
      ],
      "metadata": {
        "id": "MVM63xpp0jd-"
      },
      "execution_count": null,
      "outputs": []
    },
    {
      "cell_type": "code",
      "source": [
        "df['Name'] = df['Name'].str.upper()             # Convert to uppercase\n",
        "df['Email'].str.contains('@gmail.com')          # Filter based on string\n",
        "df['City'].str.strip()                          # Remove whitespaces"
      ],
      "metadata": {
        "id": "ENQ5aQa30tLp"
      },
      "execution_count": null,
      "outputs": []
    },
    {
      "cell_type": "code",
      "source": [
        "df.groupby('Department')['Salary'].mean()       # Mean salary by department\n",
        "df.groupby(['Gender', 'Department']).sum()"
      ],
      "metadata": {
        "id": "fIAKUI3G0tN_"
      },
      "execution_count": null,
      "outputs": []
    },
    {
      "cell_type": "code",
      "source": [
        "df.sort_values(by='Salary', ascending=False)"
      ],
      "metadata": {
        "id": "BdCAJyQ30tRf"
      },
      "execution_count": null,
      "outputs": []
    },
    {
      "cell_type": "code",
      "source": [
        "df1 = pd.read_csv('file1.csv')\n",
        "df2 = pd.read_csv('file2.csv')\n",
        "merged = pd.merge(df1, df2, on='ID', how='inner')    # or 'left', 'right', 'outer'"
      ],
      "metadata": {
        "id": "z7_l0fhy0-XG"
      },
      "execution_count": null,
      "outputs": []
    },
    {
      "cell_type": "code",
      "source": [
        "df.to_csv('cleaned_data.csv', index=False)\n"
      ],
      "metadata": {
        "id": "Pl9doI601EkF"
      },
      "execution_count": null,
      "outputs": []
    }
  ]
}