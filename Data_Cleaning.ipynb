{
  "nbformat": 4,
  "nbformat_minor": 0,
  "metadata": {
    "colab": {
      "provenance": []
    },
    "kernelspec": {
      "name": "python3",
      "display_name": "Python 3"
    },
    "language_info": {
      "name": "python"
    }
  },
  "cells": [
    {
      "cell_type": "code",
      "execution_count": 1,
      "metadata": {
        "id": "9ZPeRp5duf2J"
      },
      "outputs": [],
      "source": [
        "import pandas as pd"
      ]
    },
    {
      "cell_type": "code",
      "source": [
        "df = pd.read_csv('data.csv')  # Replace 'data.csv' with your file name"
      ],
      "metadata": {
        "id": "iZxQd83gumb0"
      },
      "execution_count": 2,
      "outputs": []
    },
    {
      "cell_type": "code",
      "source": [
        "df.head()         # First 5 rows\n",
        "df.tail()         # Last 5 rows\n",
        "df.shape          # Rows and columns\n",
        "df.info()         # Column data types and non-null values\n",
        "df.describe()     # Summary statistics"
      ],
      "metadata": {
        "id": "VLoYRRDyuxfD"
      },
      "execution_count": null,
      "outputs": []
    },
    {
      "cell_type": "code",
      "source": [
        "df.isnull().sum()     # Total missing values per column"
      ],
      "metadata": {
        "id": "WmWIgU6nuxoY"
      },
      "execution_count": null,
      "outputs": []
    },
    {
      "cell_type": "code",
      "source": [
        "df.dropna(inplace=True)  # Remove rows with missing values:"
      ],
      "metadata": {
        "id": "43hGVIzUuxqo"
      },
      "execution_count": null,
      "outputs": []
    },
    {
      "cell_type": "code",
      "source": [
        "df['Age'].fillna(df['Age'].mean(), inplace=True)\n",
        "df['Gender'].fillna(df['Gender'].mode()[0], inplace=True)     # Fill missing values with mean/median/mode"
      ],
      "metadata": {
        "id": "dlUdboQ6uxuC"
      },
      "execution_count": null,
      "outputs": []
    },
    {
      "cell_type": "code",
      "source": [
        "df.rename(columns={\n",
        "    'First Name': 'first_name',\n",
        "    'Last Name': 'last_name'\n",
        "}, inplace=True)                           # Rename Columns for Consistency"
      ],
      "metadata": {
        "id": "AmHYAOg2vW2p"
      },
      "execution_count": null,
      "outputs": []
    },
    {
      "cell_type": "code",
      "source": [
        "df.duplicated().sum()      # Number of duplicate rows\n",
        "df.drop_duplicates(inplace=True)     #  Remove Duplicates"
      ],
      "metadata": {
        "id": "Zg8Nvhyzv3ZX"
      },
      "execution_count": null,
      "outputs": []
    },
    {
      "cell_type": "code",
      "source": [
        "df['Date'] = pd.to_datetime(df['Date'])     # Convert to datetime\n",
        "df['Age'] = df['Age'].astype(int)           # Convert to integer"
      ],
      "metadata": {
        "id": "hS6hEXNRwIlF"
      },
      "execution_count": null,
      "outputs": []
    },
    {
      "cell_type": "code",
      "source": [
        "df['city'] = df['city'].str.lower().str.strip()   # Convert to lowercase & remove spaces"
      ],
      "metadata": {
        "id": "J90PfVwqwZq0"
      },
      "execution_count": null,
      "outputs": []
    },
    {
      "cell_type": "code",
      "source": [
        "df['price'] = df['price'].str.replace('$', '').str.replace(',', '')         # Remove Unwanted Characters\n",
        "df['price'] = df['price'].astype(float)"
      ],
      "metadata": {
        "id": "JzYaIYUSwdLD"
      },
      "execution_count": null,
      "outputs": []
    },
    {
      "cell_type": "code",
      "source": [
        "df['full_name'] = df['first_name'] + ' ' + df['last_name']      # Create a new column:\n",
        "df.drop(['unwanted_column'], axis=1, inplace=True)              # Drop unnecessary columns:"
      ],
      "metadata": {
        "id": "q-DryEaLw9Zm"
      },
      "execution_count": null,
      "outputs": []
    },
    {
      "cell_type": "code",
      "source": [
        "# Remove outliers where salary > 1000000\n",
        "df = df[df['salary'] < 1000000]"
      ],
      "metadata": {
        "id": "B9_uDad0xYXU"
      },
      "execution_count": null,
      "outputs": []
    },
    {
      "cell_type": "code",
      "source": [
        "df.reset_index(drop=True, inplace=True)       # Reset Index (After Cleaning)"
      ],
      "metadata": {
        "id": "G6rvprv4xwdk"
      },
      "execution_count": null,
      "outputs": []
    },
    {
      "cell_type": "code",
      "source": [
        "df.to_csv('cleaned_data.csv', index=False)\n"
      ],
      "metadata": {
        "id": "nNDNxYNjx3Mn"
      },
      "execution_count": null,
      "outputs": []
    }
  ]
}