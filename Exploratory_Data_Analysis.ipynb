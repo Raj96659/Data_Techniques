{
  "nbformat": 4,
  "nbformat_minor": 0,
  "metadata": {
    "colab": {
      "provenance": []
    },
    "kernelspec": {
      "name": "python3",
      "display_name": "Python 3"
    },
    "language_info": {
      "name": "python"
    }
  },
  "cells": [
    {
      "cell_type": "code",
      "execution_count": null,
      "metadata": {
        "id": "N2hJLmzgyc1v"
      },
      "outputs": [],
      "source": [
        "import pandas as pd\n",
        "import numpy as np\n",
        "import matplotlib.pyplot as plt\n",
        "import seaborn as sns"
      ]
    },
    {
      "cell_type": "code",
      "source": [
        "df = pd.read_csv('your_dataset.csv')"
      ],
      "metadata": {
        "id": "Muk4eeLnykIW"
      },
      "execution_count": null,
      "outputs": []
    },
    {
      "cell_type": "code",
      "source": [
        "df.head()         # First 5 rows\n",
        "df.tail()         # Last 5 rows\n",
        "df.shape          # Rows and columns\n",
        "df.columns        # Column names\n",
        "df.info()         # Data types, nulls, memory usage\n",
        "df.describe()     # Summary stats for numerical features"
      ],
      "metadata": {
        "id": "t59FdYEzykPw"
      },
      "execution_count": null,
      "outputs": []
    },
    {
      "cell_type": "code",
      "source": [
        "df.isnull().sum()      # Missing count per column\n",
        "df.isnull().mean()     # Percentage of missing values"
      ],
      "metadata": {
        "id": "q6hCbDC2yo7E"
      },
      "execution_count": null,
      "outputs": []
    },
    {
      "cell_type": "code",
      "source": [
        "df['column_name'].fillna(df['column_name'].mean(), inplace=True)         # fill the missing value\n",
        "# OR\n",
        "df.dropna(inplace=True)"
      ],
      "metadata": {
        "id": "j6OoQ8b5ypC3"
      },
      "execution_count": null,
      "outputs": []
    },
    {
      "cell_type": "code",
      "source": [
        "df.duplicated().sum()                        # check duplicates\n",
        "df.drop_duplicates(inplace=True)"
      ],
      "metadata": {
        "id": "9teJt4JAypGe"
      },
      "execution_count": null,
      "outputs": []
    },
    {
      "cell_type": "code",
      "source": [
        "df.dtypes\n",
        "df['date_column'] = pd.to_datetime(df['date_column'])"
      ],
      "metadata": {
        "id": "YMgUNqluy6-j"
      },
      "execution_count": null,
      "outputs": []
    },
    {
      "cell_type": "code",
      "source": [
        "sns.boxplot(df['numeric_column'])\n",
        "# Optional: remove outliers\n",
        "Q1 = df['column'].quantile(0.25)\n",
        "Q3 = df['column'].quantile(0.75)\n",
        "IQR = Q3 - Q1\n",
        "df = df[~((df['column'] < (Q1 - 1.5 * IQR)) | (df['column'] > (Q3 + 1.5 * IQR)))]"
      ],
      "metadata": {
        "id": "LWpPPALXy7DN"
      },
      "execution_count": null,
      "outputs": []
    },
    {
      "cell_type": "code",
      "source": [
        "df.groupby('category_column')['num_column'].mean()   # group by"
      ],
      "metadata": {
        "id": "OiaM1BhLzA27"
      },
      "execution_count": null,
      "outputs": []
    },
    {
      "cell_type": "code",
      "source": [
        "df.rename(columns={'OldName': 'NewName'}, inplace=True)"
      ],
      "metadata": {
        "id": "KV06Hvz9zH2F"
      },
      "execution_count": null,
      "outputs": []
    },
    {
      "cell_type": "code",
      "source": [
        "df.to_csv('cleaned_data.csv', index=False)"
      ],
      "metadata": {
        "id": "8oaZAWNxzKbe"
      },
      "execution_count": null,
      "outputs": []
    }
  ]
}